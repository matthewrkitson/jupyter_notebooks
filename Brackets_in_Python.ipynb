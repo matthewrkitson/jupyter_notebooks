{
  "cells": [
    {
      "cell_type": "markdown",
      "metadata": {
        "id": "view-in-github",
        "colab_type": "text"
      },
      "source": [
        "<a href=\"https://colab.research.google.com/github/matthewrkitson/jupyter_notebooks/blob/main/Brackets_in_Python.ipynb\" target=\"_parent\"><img src=\"https://colab.research.google.com/assets/colab-badge.svg\" alt=\"Open In Colab\"/></a>"
      ]
    },
    {
      "cell_type": "markdown",
      "id": "1f72cb77",
      "metadata": {
        "id": "1f72cb77"
      },
      "source": [
        "# Brackets in Python\n",
        "\n",
        "This article explains the different ways that (), [] and {} are used in Python.\n",
        "\n",
        "## {}: Curly brackets/squiggly brackets/braces\n",
        "### Dictionary definition\n",
        "Python has a data structure called a dictionary that allows you to map keys to values. Squiggly brackets are used to define the contents of a new dictionary object.\n",
        "\n",
        "Used in this way, they always appear on the right-hand side of an assignment, or (slightly less common) as a parameter passed to a function."
      ]
    },
    {
      "cell_type": "code",
      "execution_count": 1,
      "id": "8a524d12",
      "metadata": {
        "colab": {
          "base_uri": "https://localhost:8080/",
          "height": 35
        },
        "id": "8a524d12",
        "outputId": "216a6ac0-fb8d-4e21-fdb9-4b19c5b128fd"
      },
      "outputs": [
        {
          "output_type": "execute_result",
          "data": {
            "text/plain": [
              "'a large African animal that has a long nose and that eats ants and other insects'"
            ],
            "application/vnd.google.colaboratory.intrinsic+json": {
              "type": "string"
            }
          },
          "metadata": {},
          "execution_count": 1
        }
      ],
      "source": [
        "# Create a new dictionary with useful data\n",
        "oxford_english_dictionary = {\n",
        "    \"a (indefinite article)\": \"used before singular nouns when the person or thing is being mentioned for the first time\",\n",
        "    \"aardvark\": \"a large African animal that has a long nose and that eats ants and other insects\",\n",
        "    \"aardwolf\": \"a black-striped nocturnal African mammal that feeds mainly on termites\",\n",
        "    \"abandon\": \"cease to support or look after (someone); desert\",\n",
        "}\n",
        "\n",
        "# Look up a value in the dictionary\n",
        "oxford_english_dictionary[\"aardvark\"]"
      ]
    },
    {
      "cell_type": "markdown",
      "id": "1ce3c878",
      "metadata": {
        "id": "1ce3c878"
      },
      "source": [
        "### Dictionary comprehension\n",
        "A dictionary comprehension is a way to automatically build a dictionary from a sequence of items you already have. It uses a similar syntax to a list comprehension, but with {} rather than [] (to indicate that it's a dictionary rather than a list).\n"
      ]
    },
    {
      "cell_type": "code",
      "execution_count": 2,
      "id": "108c4986",
      "metadata": {
        "colab": {
          "base_uri": "https://localhost:8080/",
          "height": 35
        },
        "id": "108c4986",
        "outputId": "b7371b98-f8b2-41a5-e071-f3647a057258"
      },
      "outputs": [
        {
          "output_type": "execute_result",
          "data": {
            "text/plain": [
              "'one'"
            ],
            "application/vnd.google.colaboratory.intrinsic+json": {
              "type": "string"
            }
          },
          "metadata": {},
          "execution_count": 2
        }
      ],
      "source": [
        "keys = [1, 2, 3, 4, 5]\n",
        "values = [\"one\", \"two\", \"three\", \"four\", \"five\"]\n",
        "\n",
        "numbers_as_words = {k:v for k, v in zip(keys, values)}\n",
        "\n",
        "numbers_as_words[1]"
      ]
    },
    {
      "cell_type": "markdown",
      "id": "0bac5e16",
      "metadata": {
        "id": "0bac5e16"
      },
      "source": [
        "### Expression placeholder in interpolated strings\n",
        "## [] Square brackets\n",
        "### List definition\n",
        "### List comprehension\n",
        "### Indexing\n",
        "## () Brackets/round brackets/parenthesies\n",
        "### Expression priority\n",
        "### Tuple definition\n",
        "### Function invocation"
      ]
    }
  ],
  "metadata": {
    "kernelspec": {
      "display_name": "Python 3",
      "language": "python",
      "name": "python3"
    },
    "language_info": {
      "codemirror_mode": {
        "name": "ipython",
        "version": 3
      },
      "file_extension": ".py",
      "mimetype": "text/x-python",
      "name": "python",
      "nbconvert_exporter": "python",
      "pygments_lexer": "ipython3",
      "version": "3.9.6"
    },
    "colab": {
      "provenance": [],
      "include_colab_link": true
    }
  },
  "nbformat": 4,
  "nbformat_minor": 5
}